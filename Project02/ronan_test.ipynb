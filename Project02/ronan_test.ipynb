{
 "cells": [
  {
   "cell_type": "code",
   "execution_count": 1,
   "metadata": {},
   "outputs": [],
   "source": [
    "import solution"
   ]
  },
  {
   "cell_type": "code",
   "execution_count": 2,
   "metadata": {},
   "outputs": [
    {
     "name": "stdout",
     "output_type": "stream",
     "text": [
      "Running main. This main() method is for testing purposes\n",
      "Loaded pretrained MAP weights from c:\\Users\\ronan\\Documents\\University\\3.ETH\\MA1\\Probabilistic Artificial Intelligence\\Project-Group\\Project02\\map_weights.pt\n",
      "Evaluating model on validation data\n",
      "Accuracy (raw): 0.7429\n",
      "Accuracy (non-ambiguous only, your predictions): 0.8667\n",
      "Accuracy (non-ambiguous only, predicting most-likely class): 0.8667\n",
      "Best cost 0.5 at threshold 0.8755702972412109\n",
      "Note that this threshold does not necessarily generalize to the test set!\n",
      "Validation ECE: 0.1915082371660642\n"
     ]
    }
   ],
   "source": [
    "solution.main()"
   ]
  },
  {
   "cell_type": "code",
   "execution_count": null,
   "metadata": {},
   "outputs": [],
   "source": []
  }
 ],
 "metadata": {
  "kernelspec": {
   "display_name": "pai-demos",
   "language": "python",
   "name": "python3"
  },
  "language_info": {
   "codemirror_mode": {
    "name": "ipython",
    "version": 3
   },
   "file_extension": ".py",
   "mimetype": "text/x-python",
   "name": "python",
   "nbconvert_exporter": "python",
   "pygments_lexer": "ipython3",
   "version": "3.9.18"
  }
 },
 "nbformat": 4,
 "nbformat_minor": 2
}
