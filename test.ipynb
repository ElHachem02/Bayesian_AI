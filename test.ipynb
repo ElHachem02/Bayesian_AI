{
 "cells": [
  {
   "cell_type": "markdown",
   "metadata": {},
   "source": [
    "# Solution"
   ]
  },
  {
   "cell_type": "code",
   "execution_count": 1,
   "metadata": {},
   "outputs": [],
   "source": [
    "from solution import *\n",
    "import pandas as pd\n",
    "from sklearn.model_selection import train_test_split"
   ]
  },
  {
   "cell_type": "code",
   "execution_count": 9,
   "metadata": {},
   "outputs": [],
   "source": [
    "train_x = pd.read_csv(\"train_x.csv\")\n",
    "\n",
    "train_y = pd.read_csv(\"train_y.csv\")"
   ]
  },
  {
   "cell_type": "code",
   "execution_count": 10,
   "metadata": {},
   "outputs": [],
   "source": [
    "train_x, test_x, train_y, test_y = train_test_split(train_x, train_y, test_size=0.2, random_state=42)"
   ]
  },
  {
   "cell_type": "code",
   "execution_count": 3,
   "metadata": {},
   "outputs": [],
   "source": [
    "train_x_no_area = train_x.drop(\"area_id\", axis=1).values\n",
    "model = Model()\n",
    "model.fitting_model(train_y.values, train_x_no_area)"
   ]
  },
  {
   "cell_type": "code",
   "execution_count": 6,
   "metadata": {},
   "outputs": [],
   "source": [
    "def search_best_k(gp, val_x, val_y, cost_function, k_range=np.linspace(0, 10, 100)):\n",
    "\n",
    "    val_x_no_area = val_x.drop(\"area_id\", axis=1).values\n",
    "    area_id = val_x[\"area_id\"].values\n",
    "\n",
    "    best_k = None\n",
    "    best_cost = float('inf')\n",
    "\n",
    "    gp_mean, gp_std = gp.predict(val_x_no_area, return_std=True)\n",
    "    \n",
    "    for k in k_range:\n",
    "        # Make predictions using the current k\n",
    "        predictions = gp_mean + area_id * k * gp_std\n",
    "        \n",
    "        # Evaluate the predictions using the cost function\n",
    "        current_cost = cost_function(val_y, predictions, area_id)\n",
    "        \n",
    "        if current_cost < best_cost:\n",
    "            best_cost = current_cost\n",
    "            best_k = k\n",
    "            \n",
    "    return best_k, best_cost"
   ]
  },
  {
   "cell_type": "code",
   "execution_count": 11,
   "metadata": {},
   "outputs": [
    {
     "data": {
      "text/plain": [
       "(1.1111111111111112, 4.332754080740829)"
      ]
     },
     "execution_count": 11,
     "metadata": {},
     "output_type": "execute_result"
    }
   ],
   "source": [
    "search_best_k(model.gp, test_x, test_y.values[:,0], cost_function)"
   ]
  },
  {
   "cell_type": "code",
   "execution_count": 4,
   "metadata": {},
   "outputs": [
    {
     "data": {
      "text/plain": [
       "10059.647842870718"
      ]
     },
     "execution_count": 4,
     "metadata": {},
     "output_type": "execute_result"
    }
   ],
   "source": [
    "model.gp.log_marginal_likelihood_value_"
   ]
  },
  {
   "cell_type": "code",
   "execution_count": null,
   "metadata": {},
   "outputs": [],
   "source": [
    "model.gp.score(test_x, test_y)"
   ]
  },
  {
   "cell_type": "code",
   "execution_count": 5,
   "metadata": {},
   "outputs": [
    {
     "data": {
      "text/plain": [
       "RationalQuadratic(alpha=0.26, length_scale=0.036) + WhiteKernel(noise_level=0.00632)"
      ]
     },
     "execution_count": 5,
     "metadata": {},
     "output_type": "execute_result"
    }
   ],
   "source": [
    "model.gp.kernel_"
   ]
  },
  {
   "cell_type": "markdown",
   "metadata": {},
   "source": []
  }
 ],
 "metadata": {
  "kernelspec": {
   "display_name": "pai-demos",
   "language": "python",
   "name": "python3"
  },
  "language_info": {
   "codemirror_mode": {
    "name": "ipython",
    "version": 3
   },
   "file_extension": ".py",
   "mimetype": "text/x-python",
   "name": "python",
   "nbconvert_exporter": "python",
   "pygments_lexer": "ipython3",
   "version": "3.11.4"
  }
 },
 "nbformat": 4,
 "nbformat_minor": 2
}
