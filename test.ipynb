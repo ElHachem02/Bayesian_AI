{
 "cells": [
  {
   "cell_type": "markdown",
   "metadata": {},
   "source": [
    "# Solution"
   ]
  },
  {
   "cell_type": "code",
   "execution_count": 1,
   "metadata": {},
   "outputs": [],
   "source": [
    "from solution import *\n",
    "import pandas as pd"
   ]
  },
  {
   "cell_type": "code",
   "execution_count": 2,
   "metadata": {},
   "outputs": [],
   "source": [
    "train_x = pd.read_csv(\"train_x.csv\")\n",
    "train_x_2D = train_x.drop(\"area_id\", axis=1)\n",
    "\n",
    "train_y = pd.read_csv(\"train_y.csv\")"
   ]
  },
  {
   "cell_type": "code",
   "execution_count": 3,
   "metadata": {},
   "outputs": [
    {
     "name": "stderr",
     "output_type": "stream",
     "text": [
      "c:\\Users\\ronan\\miniconda3\\Lib\\site-packages\\joblib\\externals\\loky\\backend\\context.py:136: UserWarning: Could not find the number of physical cores for the following reason:\n",
      "found 0 physical cores < 1\n",
      "Returning the number of logical cores instead. You can silence this warning by setting LOKY_MAX_CPU_COUNT to the number of cores you want to use.\n",
      "  warnings.warn(\n",
      "  File \"c:\\Users\\ronan\\miniconda3\\Lib\\site-packages\\joblib\\externals\\loky\\backend\\context.py\", line 282, in _count_physical_cores\n",
      "    raise ValueError(f\"found {cpu_count_physical} physical cores < 1\")\n"
     ]
    }
   ],
   "source": [
    "df = undersampleCluster(train_x_2D, train_y, 0.5, 4)"
   ]
  },
  {
   "cell_type": "code",
   "execution_count": 4,
   "metadata": {},
   "outputs": [
    {
     "data": {
      "text/plain": [
       "[           lon      lat       pm25  Cluster\n",
       " 9331   0.85875  0.36125   7.965749        0\n",
       " 1173   0.59250  0.26750   2.176662        0\n",
       " 1427   0.89375  0.13625  14.865096        0\n",
       " 12453  0.63500  0.09500  22.452088        0\n",
       " 9303   0.67750  0.36500  48.417377        0\n",
       " ...        ...      ...        ...      ...\n",
       " 11199  0.83500  0.32750   5.115907        0\n",
       " 9099   0.63875  0.14875  24.159107        0\n",
       " 4122   0.70250  0.25625   7.178782        0\n",
       " 4917   0.74500  0.01875  12.104880        0\n",
       " 11167  0.70875  0.22125  27.612443        0\n",
       " \n",
       " [1300 rows x 4 columns],\n",
       "            lon      lat       pm25  Cluster\n",
       " 9670   0.03375  0.54500   7.817763        1\n",
       " 5742   0.11125  0.00000  -0.655083        1\n",
       " 14877  0.36375  0.27250  26.478062        1\n",
       " 10995  0.31500  0.33500  29.061183        1\n",
       " 9928   0.11125  0.13375   2.864207        1\n",
       " ...        ...      ...        ...      ...\n",
       " 8146   0.09500  0.37250  52.495853        1\n",
       " 6541   0.11750  0.47750  35.943113        1\n",
       " 6787   0.27000  0.00375   5.646446        1\n",
       " 10496  0.16250  0.35000   7.518293        1\n",
       " 13370  0.05500  0.25500  55.371473        1\n",
       " \n",
       " [1649 rows x 4 columns],\n",
       "            lon      lat       pm25  Cluster\n",
       " 6263   0.88750  0.71875  46.797356        2\n",
       " 14145  0.75750  0.65125  37.396726        2\n",
       " 1006   0.86000  0.61750  45.085033        2\n",
       " 9824   0.65875  0.81125  56.065974        2\n",
       " 12448  0.68625  0.67750  23.812833        2\n",
       " ...        ...      ...        ...      ...\n",
       " 9623   0.74000  0.90875  39.491661        2\n",
       " 2749   0.89000  0.63000  46.377195        2\n",
       " 13720  0.67750  0.86500  19.269404        2\n",
       " 9563   0.69625  0.55875  23.084222        2\n",
       " 13728  0.56125  0.66375  10.535038        2\n",
       " \n",
       " [1896 rows x 4 columns],\n",
       "            lon      lat       pm25  Cluster\n",
       " 13155  0.34750  0.90000  43.438631        3\n",
       " 3391   0.46250  0.99250   6.475102        3\n",
       " 14458  0.37250  0.91125  60.098436        3\n",
       " 12636  0.15500  0.60375  15.635131        3\n",
       " 5233   0.40125  0.86375  47.639869        3\n",
       " ...        ...      ...        ...      ...\n",
       " 7530   0.08875  0.95000   3.289312        3\n",
       " 9432   0.15500  0.96500   9.775988        3\n",
       " 11466  0.30250  0.87750  56.496228        3\n",
       " 13410  0.19750  0.65875  26.527133        3\n",
       " 4111   0.35125  0.81125  60.641235        3\n",
       " \n",
       " [2749 rows x 4 columns]]"
      ]
     },
     "execution_count": 4,
     "metadata": {},
     "output_type": "execute_result"
    }
   ],
   "source": [
    "df"
   ]
  },
  {
   "cell_type": "code",
   "execution_count": 4,
   "metadata": {},
   "outputs": [],
   "source": [
    "train_x_2D_reduced = df.drop(\"pm25\", axis=1)\n",
    "train_y_reduced = df[\"pm25\"]"
   ]
  },
  {
   "cell_type": "code",
   "execution_count": 6,
   "metadata": {},
   "outputs": [
    {
     "name": "stderr",
     "output_type": "stream",
     "text": [
      "c:\\Users\\ronan\\miniconda3\\Lib\\site-packages\\sklearn\\cluster\\_kmeans.py:1416: FutureWarning: The default value of `n_init` will change from 10 to 'auto' in 1.4. Set the value of `n_init` explicitly to suppress the warning\n",
      "  super()._check_params_vs_input(X, default_n_init=10)\n",
      "c:\\Users\\ronan\\Documents\\University\\3.ETH\\MA1\\Probabilistic Artificial Intelligence\\Project-Group\\Project01\\solution.py:271: FutureWarning: The behavior of DataFrame concatenation with empty or all-NA entries is deprecated. In a future version, this will no longer exclude empty or all-NA columns when determining the result dtypes. To retain the old behavior, exclude the relevant entries before the concat operation.\n",
      "  reducedData = pd.concat([reducedData, reducedCluster], axis=0)\n"
     ]
    }
   ],
   "source": [
    "model = Model()\n",
    "model.fitting_model(train_y_reduced, train_x_2D_reduced)"
   ]
  },
  {
   "cell_type": "code",
   "execution_count": 7,
   "metadata": {},
   "outputs": [
    {
     "data": {
      "text/plain": [
       "3254.7965762468175"
      ]
     },
     "execution_count": 7,
     "metadata": {},
     "output_type": "execute_result"
    }
   ],
   "source": [
    "model.gp.log_marginal_likelihood_value_"
   ]
  },
  {
   "cell_type": "code",
   "execution_count": 10,
   "metadata": {},
   "outputs": [
    {
     "data": {
      "text/plain": [
       "0.9926776672672943"
      ]
     },
     "execution_count": 10,
     "metadata": {},
     "output_type": "execute_result"
    }
   ],
   "source": [
    "model.gp.score(train_x_2D, train_y)"
   ]
  },
  {
   "cell_type": "code",
   "execution_count": 4,
   "metadata": {},
   "outputs": [
    {
     "data": {
      "text/plain": [
       "Matern(length_scale=0.0548, nu=1.5) + WhiteKernel(noise_level=0.00534)"
      ]
     },
     "execution_count": 4,
     "metadata": {},
     "output_type": "execute_result"
    }
   ],
   "source": [
    "model.best_kernel"
   ]
  },
  {
   "cell_type": "code",
   "execution_count": null,
   "metadata": {},
   "outputs": [],
   "source": []
  },
  {
   "cell_type": "markdown",
   "metadata": {},
   "source": []
  }
 ],
 "metadata": {
  "kernelspec": {
   "display_name": "pai-demos",
   "language": "python",
   "name": "python3"
  },
  "language_info": {
   "codemirror_mode": {
    "name": "ipython",
    "version": 3
   },
   "file_extension": ".py",
   "mimetype": "text/x-python",
   "name": "python",
   "nbconvert_exporter": "python",
   "pygments_lexer": "ipython3",
   "version": "3.11.4"
  }
 },
 "nbformat": 4,
 "nbformat_minor": 2
}
